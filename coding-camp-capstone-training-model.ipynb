{
 "cells": [
  {
   "cell_type": "markdown",
   "id": "2074fec3",
   "metadata": {
    "papermill": {
     "duration": 0.00384,
     "end_time": "2025-06-12T22:43:27.634924",
     "exception": false,
     "start_time": "2025-06-12T22:43:27.631084",
     "status": "completed"
    },
    "tags": []
   },
   "source": [
    "# Stress Detection using Wearable Devices to Enhance Well-Being | Model Training"
   ]
  },
  {
   "cell_type": "markdown",
   "id": "d9a3cb35",
   "metadata": {
    "papermill": {
     "duration": 0.002744,
     "end_time": "2025-06-12T22:43:27.640769",
     "exception": false,
     "start_time": "2025-06-12T22:43:27.638025",
     "status": "completed"
    },
    "tags": []
   },
   "source": [
    "ID Tim: CC25-CR439"
   ]
  },
  {
   "cell_type": "markdown",
   "id": "caf18486",
   "metadata": {
    "papermill": {
     "duration": 0.002674,
     "end_time": "2025-06-12T22:43:27.646434",
     "exception": false,
     "start_time": "2025-06-12T22:43:27.643760",
     "status": "completed"
    },
    "tags": []
   },
   "source": [
    "## Import Library"
   ]
  },
  {
   "cell_type": "code",
   "execution_count": 1,
   "id": "e7834de8",
   "metadata": {
    "_cell_guid": "b1076dfc-b9ad-4769-8c92-a6c4dae69d19",
    "_uuid": "8f2839f25d086af736a60e9eeb907d3b93b6e0e5",
    "execution": {
     "iopub.execute_input": "2025-06-12T22:43:27.653048Z",
     "iopub.status.busy": "2025-06-12T22:43:27.652812Z",
     "iopub.status.idle": "2025-06-12T22:43:44.533584Z",
     "shell.execute_reply": "2025-06-12T22:43:44.532772Z"
    },
    "papermill": {
     "duration": 16.885892,
     "end_time": "2025-06-12T22:43:44.535138",
     "exception": false,
     "start_time": "2025-06-12T22:43:27.649246",
     "status": "completed"
    },
    "tags": []
   },
   "outputs": [
    {
     "name": "stderr",
     "output_type": "stream",
     "text": [
      "2025-06-12 22:43:30.863475: E external/local_xla/xla/stream_executor/cuda/cuda_fft.cc:477] Unable to register cuFFT factory: Attempting to register factory for plugin cuFFT when one has already been registered\n",
      "WARNING: All log messages before absl::InitializeLog() is called are written to STDERR\n",
      "E0000 00:00:1749768211.072149      19 cuda_dnn.cc:8310] Unable to register cuDNN factory: Attempting to register factory for plugin cuDNN when one has already been registered\n",
      "E0000 00:00:1749768211.135737      19 cuda_blas.cc:1418] Unable to register cuBLAS factory: Attempting to register factory for plugin cuBLAS when one has already been registered\n"
     ]
    }
   ],
   "source": [
    "import pandas as pd\n",
    "import numpy as np\n",
    "import tensorflow as tf\n",
    "from sklearn.model_selection import train_test_split\n",
    "from sklearn.preprocessing import StandardScaler\n",
    "from sklearn.metrics import classification_report, confusion_matrix\n",
    "from sklearn.utils.class_weight import compute_class_weight\n",
    "import seaborn as sns\n",
    "import matplotlib.pyplot as plt"
   ]
  },
  {
   "cell_type": "markdown",
   "id": "be2e5932",
   "metadata": {
    "papermill": {
     "duration": 0.003078,
     "end_time": "2025-06-12T22:43:44.541626",
     "exception": false,
     "start_time": "2025-06-12T22:43:44.538548",
     "status": "completed"
    },
    "tags": []
   },
   "source": [
    "## Data Loading & Preparation"
   ]
  },
  {
   "cell_type": "code",
   "execution_count": 2,
   "id": "70669475",
   "metadata": {
    "execution": {
     "iopub.execute_input": "2025-06-12T22:43:44.548762Z",
     "iopub.status.busy": "2025-06-12T22:43:44.548223Z",
     "iopub.status.idle": "2025-06-12T22:43:45.501161Z",
     "shell.execute_reply": "2025-06-12T22:43:45.500243Z"
    },
    "papermill": {
     "duration": 0.958007,
     "end_time": "2025-06-12T22:43:45.502673",
     "exception": false,
     "start_time": "2025-06-12T22:43:44.544666",
     "status": "completed"
    },
    "tags": []
   },
   "outputs": [],
   "source": [
    "dataset_dir = '/kaggle/input/wesad-combined-feature-extracted/combined.csv'\n",
    "df = pd.read_csv(dataset_dir)\n",
    "df = df.drop(columns=['Unnamed: 0'])"
   ]
  },
  {
   "cell_type": "code",
   "execution_count": 3,
   "id": "51d2bba6",
   "metadata": {
    "execution": {
     "iopub.execute_input": "2025-06-12T22:43:45.510859Z",
     "iopub.status.busy": "2025-06-12T22:43:45.510242Z",
     "iopub.status.idle": "2025-06-12T22:43:45.522944Z",
     "shell.execute_reply": "2025-06-12T22:43:45.522039Z"
    },
    "papermill": {
     "duration": 0.017797,
     "end_time": "2025-06-12T22:43:45.524194",
     "exception": false,
     "start_time": "2025-06-12T22:43:45.506397",
     "status": "completed"
    },
    "tags": []
   },
   "outputs": [],
   "source": [
    "# Memilih Fitur (X) dan Target (y)\n",
    "# Hapus kolom yang tidak relevan untuk menjadi fitur\n",
    "features = df.drop(columns=['timestamp', 'label', 'subject'])\n",
    "target = df['label']"
   ]
  },
  {
   "cell_type": "code",
   "execution_count": 4,
   "id": "4e708693",
   "metadata": {
    "execution": {
     "iopub.execute_input": "2025-06-12T22:43:45.531463Z",
     "iopub.status.busy": "2025-06-12T22:43:45.530969Z",
     "iopub.status.idle": "2025-06-12T22:43:45.580846Z",
     "shell.execute_reply": "2025-06-12T22:43:45.580152Z"
    },
    "papermill": {
     "duration": 0.054542,
     "end_time": "2025-06-12T22:43:45.581973",
     "exception": false,
     "start_time": "2025-06-12T22:43:45.527431",
     "status": "completed"
    },
    "tags": []
   },
   "outputs": [],
   "source": [
    "# Konversi ke Masalah Klasifikasi Biner\n",
    "# Mengubah label menjadi 0 (non-stres) dan 1 (stres)\n",
    "# Label 2 adalah 'stress', sedangkan 1 ('baseline') dan 3 ('amusement') adalah 'non-stress'\n",
    "y_binary = target.apply(lambda x: 1 if x == 2 else 0)\n",
    "X = features"
   ]
  },
  {
   "cell_type": "code",
   "execution_count": 5,
   "id": "3d84a2e7",
   "metadata": {
    "execution": {
     "iopub.execute_input": "2025-06-12T22:43:45.589311Z",
     "iopub.status.busy": "2025-06-12T22:43:45.588928Z",
     "iopub.status.idle": "2025-06-12T22:43:45.617293Z",
     "shell.execute_reply": "2025-06-12T22:43:45.616375Z"
    },
    "papermill": {
     "duration": 0.03341,
     "end_time": "2025-06-12T22:43:45.618670",
     "exception": false,
     "start_time": "2025-06-12T22:43:45.585260",
     "status": "completed"
    },
    "tags": []
   },
   "outputs": [
    {
     "name": "stdout",
     "output_type": "stream",
     "text": [
      "Jumlah data training: 88628\n",
      "Jumlah data testing: 43995\n",
      "------------------------------\n"
     ]
    }
   ],
   "source": [
    "# Pembagian Data (Train-Test Split) Berdasarkan Subjek\n",
    "# Metode ini dipilih karena lebih baik daripada split acak seperti biasanya\n",
    "# karena memastikan model diuji pada subjek yang belum pernah dilihat sebelumnya.\n",
    "subjects = df['subject'].unique()\n",
    "train_subjects, test_subjects = train_test_split(subjects, test_size=0.3, random_state=42)\n",
    "\n",
    "# Buat set data train dan test berdasarkan subjek yang telah dibagi\n",
    "train_indices = df['subject'].isin(train_subjects)\n",
    "test_indices = df['subject'].isin(test_subjects)\n",
    "\n",
    "X_train, X_test = X[train_indices], X[test_indices]\n",
    "y_train, y_test = y_binary[train_indices], y_binary[test_indices]\n",
    "\n",
    "print(f\"Jumlah data training: {len(X_train)}\")\n",
    "print(f\"Jumlah data testing: {len(X_test)}\")\n",
    "print(\"-\" * 30)"
   ]
  },
  {
   "cell_type": "code",
   "execution_count": 6,
   "id": "3339ca56",
   "metadata": {
    "execution": {
     "iopub.execute_input": "2025-06-12T22:43:45.626188Z",
     "iopub.status.busy": "2025-06-12T22:43:45.625775Z",
     "iopub.status.idle": "2025-06-12T22:43:45.933241Z",
     "shell.execute_reply": "2025-06-12T22:43:45.932516Z"
    },
    "papermill": {
     "duration": 0.312448,
     "end_time": "2025-06-12T22:43:45.934419",
     "exception": false,
     "start_time": "2025-06-12T22:43:45.621971",
     "status": "completed"
    },
    "tags": []
   },
   "outputs": [
    {
     "data": {
      "image/png": "[encoded data removed]",
      "text/plain": [
       "<Figure size 800x600 with 1 Axes>"
      ]
     },
     "metadata": {},
     "output_type": "display_data"
    }
   ],
   "source": [
    "# Melihat distribusi label pada train dan test\n",
    "train_df = pd.DataFrame({'label': y_train, 'Set': 'Training'})\n",
    "test_df = pd.DataFrame({'label': y_test, 'Set': 'Testing'})\n",
    "combined_df = pd.concat([train_df, test_df])\n",
    "\n",
    "# Buat plot menggunakan seaborn.countplot\n",
    "plt.figure(figsize=(8, 6))\n",
    "sns.countplot(data=combined_df, x='label', hue='Set')\n",
    "\n",
    "plt.title('Perbandingan Distribusi Label (Stress vs. Non-Stress)', fontsize=16)\n",
    "plt.xlabel('Kelas', fontsize=12)\n",
    "plt.ylabel('Jumlah (Count)', fontsize=12)\n",
    "plt.xticks(ticks=[0, 1], labels=['Non-Stress', 'Stress'])\n",
    "plt.legend(title='Set Data')\n",
    "plt.grid(axis='y', linestyle='--', alpha=0.7)\n",
    "\n",
    "plt.show()"
   ]
  },
  {
   "cell_type": "code",
   "execution_count": 7,
   "id": "0899e9d0",
   "metadata": {
    "execution": {
     "iopub.execute_input": "2025-06-12T22:43:45.942748Z",
     "iopub.status.busy": "2025-06-12T22:43:45.942497Z",
     "iopub.status.idle": "2025-06-12T22:43:46.009519Z",
     "shell.execute_reply": "2025-06-12T22:43:46.008711Z"
    },
    "papermill": {
     "duration": 0.072691,
     "end_time": "2025-06-12T22:43:46.010933",
     "exception": false,
     "start_time": "2025-06-12T22:43:45.938242",
     "status": "completed"
    },
    "tags": []
   },
   "outputs": [],
   "source": [
    "# Feature Scaling\n",
    "scaler = StandardScaler()\n",
    "X_train_scaled = scaler.fit_transform(X_train)\n",
    "X_test_scaled = scaler.transform(X_test)"
   ]
  },
  {
   "cell_type": "markdown",
   "id": "d39289e6",
   "metadata": {
    "papermill": {
     "duration": 0.003569,
     "end_time": "2025-06-12T22:43:46.018481",
     "exception": false,
     "start_time": "2025-06-12T22:43:46.014912",
     "status": "completed"
    },
    "tags": []
   },
   "source": [
    "## Modelling"
   ]
  },
  {
   "cell_type": "code",
   "execution_count": 8,
   "id": "eb687a02",
   "metadata": {
    "execution": {
     "iopub.execute_input": "2025-06-12T22:43:46.026869Z",
     "iopub.status.busy": "2025-06-12T22:43:46.026634Z",
     "iopub.status.idle": "2025-06-12T22:43:48.870676Z",
     "shell.execute_reply": "2025-06-12T22:43:48.869976Z"
    },
    "papermill": {
     "duration": 2.849798,
     "end_time": "2025-06-12T22:43:48.871835",
     "exception": false,
     "start_time": "2025-06-12T22:43:46.022037",
     "status": "completed"
    },
    "tags": []
   },
   "outputs": [
    {
     "name": "stderr",
     "output_type": "stream",
     "text": [
      "/usr/local/lib/python3.11/dist-packages/keras/src/layers/core/dense.py:87: UserWarning: Do not pass an `input_shape`/`input_dim` argument to a layer. When using Sequential models, prefer using an `Input(shape)` object as the first layer in the model instead.\n",
      "  super().__init__(activity_regularizer=activity_regularizer, **kwargs)\n",
      "I0000 00:00:1749768227.544591      19 gpu_device.cc:2022] Created device /job:localhost/replica:0/task:0/device:GPU:0 with 13942 MB memory:  -> device: 0, name: Tesla T4, pci bus id: 0000:00:04.0, compute capability: 7.5\n",
      "I0000 00:00:1749768227.545423      19 gpu_device.cc:2022] Created device /job:localhost/replica:0/task:0/device:GPU:1 with 13942 MB memory:  -> device: 1, name: Tesla T4, pci bus id: 0000:00:05.0, compute capability: 7.5\n"
     ]
    },
    {
     "data": {
      "text/html": [
       "<pre style=\"white-space:pre;overflow-x:auto;line-height:normal;font-family:Menlo,'DejaVu Sans Mono',consolas,'Courier New',monospace\"><span style=\"font-weight: bold\">Model: \"sequential\"</span>\n",
       "</pre>\n"
      ],
      "text/plain": [
       "\u001b[1mModel: \"sequential\"\u001b[0m\n"
      ]
     },
     "metadata": {},
     "output_type": "display_data"
    },
    {
     "data": {
      "text/html": [
       "<pre style=\"white-space:pre;overflow-x:auto;line-height:normal;font-family:Menlo,'DejaVu Sans Mono',consolas,'Courier New',monospace\">┏━━━━━━━━━━━━━━━━━━━━━━━━━━━━━━━━━━━━━━┳━━━━━━━━━━━━━━━━━━━━━━━━━━━━━┳━━━━━━━━━━━━━━━━━┓\n",
       "┃<span style=\"font-weight: bold\"> Layer (type)                         </span>┃<span style=\"font-weight: bold\"> Output Shape                </span>┃<span style=\"font-weight: bold\">         Param # </span>┃\n",
       "┡━━━━━━━━━━━━━━━━━━━━━━━━━━━━━━━━━━━━━━╇━━━━━━━━━━━━━━━━━━━━━━━━━━━━━╇━━━━━━━━━━━━━━━━━┩\n",
       "│ dense (<span style=\"color: #0087ff; text-decoration-color: #0087ff\">Dense</span>)                        │ (<span style=\"color: #00d7ff; text-decoration-color: #00d7ff\">None</span>, <span style=\"color: #00af00; text-decoration-color: #00af00\">64</span>)                  │           <span style=\"color: #00af00; text-decoration-color: #00af00\">1,536</span> │\n",
       "├──────────────────────────────────────┼─────────────────────────────┼─────────────────┤\n",
       "│ dropout (<span style=\"color: #0087ff; text-decoration-color: #0087ff\">Dropout</span>)                    │ (<span style=\"color: #00d7ff; text-decoration-color: #00d7ff\">None</span>, <span style=\"color: #00af00; text-decoration-color: #00af00\">64</span>)                  │               <span style=\"color: #00af00; text-decoration-color: #00af00\">0</span> │\n",
       "├──────────────────────────────────────┼─────────────────────────────┼─────────────────┤\n",
       "│ dense_1 (<span style=\"color: #0087ff; text-decoration-color: #0087ff\">Dense</span>)                      │ (<span style=\"color: #00d7ff; text-decoration-color: #00d7ff\">None</span>, <span style=\"color: #00af00; text-decoration-color: #00af00\">32</span>)                  │           <span style=\"color: #00af00; text-decoration-color: #00af00\">2,080</span> │\n",
       "├──────────────────────────────────────┼─────────────────────────────┼─────────────────┤\n",
       "│ dropout_1 (<span style=\"color: #0087ff; text-decoration-color: #0087ff\">Dropout</span>)                  │ (<span style=\"color: #00d7ff; text-decoration-color: #00d7ff\">None</span>, <span style=\"color: #00af00; text-decoration-color: #00af00\">32</span>)                  │               <span style=\"color: #00af00; text-decoration-color: #00af00\">0</span> │\n",
       "├──────────────────────────────────────┼─────────────────────────────┼─────────────────┤\n",
       "│ dense_2 (<span style=\"color: #0087ff; text-decoration-color: #0087ff\">Dense</span>)                      │ (<span style=\"color: #00d7ff; text-decoration-color: #00d7ff\">None</span>, <span style=\"color: #00af00; text-decoration-color: #00af00\">1</span>)                   │              <span style=\"color: #00af00; text-decoration-color: #00af00\">33</span> │\n",
       "└──────────────────────────────────────┴─────────────────────────────┴─────────────────┘\n",
       "</pre>\n"
      ],
      "text/plain": [
       "┏━━━━━━━━━━━━━━━━━━━━━━━━━━━━━━━━━━━━━━┳━━━━━━━━━━━━━━━━━━━━━━━━━━━━━┳━━━━━━━━━━━━━━━━━┓\n",
       "┃\u001b[1m \u001b[0m\u001b[1mLayer (type)                        \u001b[0m\u001b[1m \u001b[0m┃\u001b[1m \u001b[0m\u001b[1mOutput Shape               \u001b[0m\u001b[1m \u001b[0m┃\u001b[1m \u001b[0m\u001b[1m        Param #\u001b[0m\u001b[1m \u001b[0m┃\n",
       "┡━━━━━━━━━━━━━━━━━━━━━━━━━━━━━━━━━━━━━━╇━━━━━━━━━━━━━━━━━━━━━━━━━━━━━╇━━━━━━━━━━━━━━━━━┩\n",
       "│ dense (\u001b[38;5;33mDense\u001b[0m)                        │ (\u001b[38;5;45mNone\u001b[0m, \u001b[38;5;34m64\u001b[0m)                  │           \u001b[38;5;34m1,536\u001b[0m │\n",
       "├──────────────────────────────────────┼─────────────────────────────┼─────────────────┤\n",
       "│ dropout (\u001b[38;5;33mDropout\u001b[0m)                    │ (\u001b[38;5;45mNone\u001b[0m, \u001b[38;5;34m64\u001b[0m)                  │               \u001b[38;5;34m0\u001b[0m │\n",
       "├──────────────────────────────────────┼─────────────────────────────┼─────────────────┤\n",
       "│ dense_1 (\u001b[38;5;33mDense\u001b[0m)                      │ (\u001b[38;5;45mNone\u001b[0m, \u001b[38;5;34m32\u001b[0m)                  │           \u001b[38;5;34m2,080\u001b[0m │\n",
       "├──────────────────────────────────────┼─────────────────────────────┼─────────────────┤\n",
       "│ dropout_1 (\u001b[38;5;33mDropout\u001b[0m)                  │ (\u001b[38;5;45mNone\u001b[0m, \u001b[38;5;34m32\u001b[0m)                  │               \u001b[38;5;34m0\u001b[0m │\n",
       "├──────────────────────────────────────┼─────────────────────────────┼─────────────────┤\n",
       "│ dense_2 (\u001b[38;5;33mDense\u001b[0m)                      │ (\u001b[38;5;45mNone\u001b[0m, \u001b[38;5;34m1\u001b[0m)                   │              \u001b[38;5;34m33\u001b[0m │\n",
       "└──────────────────────────────────────┴─────────────────────────────┴─────────────────┘\n"
      ]
     },
     "metadata": {},
     "output_type": "display_data"
    },
    {
     "data": {
      "text/html": [
       "<pre style=\"white-space:pre;overflow-x:auto;line-height:normal;font-family:Menlo,'DejaVu Sans Mono',consolas,'Courier New',monospace\"><span style=\"font-weight: bold\"> Total params: </span><span style=\"color: #00af00; text-decoration-color: #00af00\">3,649</span> (14.25 KB)\n",
       "</pre>\n"
      ],
      "text/plain": [
       "\u001b[1m Total params: \u001b[0m\u001b[38;5;34m3,649\u001b[0m (14.25 KB)\n"
      ]
     },
     "metadata": {},
     "output_type": "display_data"
    },
    {
     "data": {
      "text/html": [
       "<pre style=\"white-space:pre;overflow-x:auto;line-height:normal;font-family:Menlo,'DejaVu Sans Mono',consolas,'Courier New',monospace\"><span style=\"font-weight: bold\"> Trainable params: </span><span style=\"color: #00af00; text-decoration-color: #00af00\">3,649</span> (14.25 KB)\n",
       "</pre>\n"
      ],
      "text/plain": [
       "\u001b[1m Trainable params: \u001b[0m\u001b[38;5;34m3,649\u001b[0m (14.25 KB)\n"
      ]
     },
     "metadata": {},
     "output_type": "display_data"
    },
    {
     "data": {
      "text/html": [
       "<pre style=\"white-space:pre;overflow-x:auto;line-height:normal;font-family:Menlo,'DejaVu Sans Mono',consolas,'Courier New',monospace\"><span style=\"font-weight: bold\"> Non-trainable params: </span><span style=\"color: #00af00; text-decoration-color: #00af00\">0</span> (0.00 B)\n",
       "</pre>\n"
      ],
      "text/plain": [
       "\u001b[1m Non-trainable params: \u001b[0m\u001b[38;5;34m0\u001b[0m (0.00 B)\n"
      ]
     },
     "metadata": {},
     "output_type": "display_data"
    }
   ],
   "source": [
    "# Menentukan jumlah fitur input untuk layer pertama\n",
    "num_features = X_train_scaled.shape[1]\n",
    "\n",
    "# Membangun model sekuensial dengan Keras\n",
    "model = tf.keras.Sequential([\n",
    "    # Input Layer (Dense) dengan 'relu' activation\n",
    "    tf.keras.layers.Dense(64, activation='relu', input_shape=(num_features,)),\n",
    "    # Dropout untuk regularisasi (mencegah overfitting)\n",
    "    tf.keras.layers.Dropout(0.5),\n",
    "    \n",
    "    # Hidden Layer\n",
    "    tf.keras.layers.Dense(32, activation='relu'),\n",
    "    tf.keras.layers.Dropout(0.3),\n",
    "    \n",
    "    # Output Layer\n",
    "    # Menggunakan 1 neuron dengan aktivasi 'sigmoid' untuk klasifikasi biner\n",
    "    tf.keras.layers.Dense(1, activation='sigmoid')\n",
    "])\n",
    "\n",
    "# Menampilkan ringkasan arsitektur model\n",
    "model.summary()"
   ]
  },
  {
   "cell_type": "code",
   "execution_count": 9,
   "id": "7ef902f8",
   "metadata": {
    "execution": {
     "iopub.execute_input": "2025-06-12T22:43:48.881989Z",
     "iopub.status.busy": "2025-06-12T22:43:48.881590Z",
     "iopub.status.idle": "2025-06-12T22:43:48.893193Z",
     "shell.execute_reply": "2025-06-12T22:43:48.892480Z"
    },
    "papermill": {
     "duration": 0.017561,
     "end_time": "2025-06-12T22:43:48.894405",
     "exception": false,
     "start_time": "2025-06-12T22:43:48.876844",
     "status": "completed"
    },
    "tags": []
   },
   "outputs": [],
   "source": [
    "# Mengonfigurasi proses training\n",
    "model.compile(\n",
    "    optimizer='adam',\n",
    "    loss='binary_crossentropy',\n",
    "    metrics=['accuracy']\n",
    ")"
   ]
  },
  {
   "cell_type": "code",
   "execution_count": 10,
   "id": "c35fc5d8",
   "metadata": {
    "execution": {
     "iopub.execute_input": "2025-06-12T22:43:48.903871Z",
     "iopub.status.busy": "2025-06-12T22:43:48.903319Z",
     "iopub.status.idle": "2025-06-12T22:45:24.836926Z",
     "shell.execute_reply": "2025-06-12T22:45:24.836297Z"
    },
    "papermill": {
     "duration": 95.939639,
     "end_time": "2025-06-12T22:45:24.838288",
     "exception": false,
     "start_time": "2025-06-12T22:43:48.898649",
     "status": "completed"
    },
    "tags": []
   },
   "outputs": [
    {
     "name": "stdout",
     "output_type": "stream",
     "text": [
      "Epoch 1/50\n"
     ]
    },
    {
     "name": "stderr",
     "output_type": "stream",
     "text": [
      "WARNING: All log messages before absl::InitializeLog() is called are written to STDERR\n",
      "I0000 00:00:1749768230.758343      61 service.cc:148] XLA service 0x7d643c0052e0 initialized for platform CUDA (this does not guarantee that XLA will be used). Devices:\n",
      "I0000 00:00:1749768230.759290      61 service.cc:156]   StreamExecutor device (0): Tesla T4, Compute Capability 7.5\n",
      "I0000 00:00:1749768230.759310      61 service.cc:156]   StreamExecutor device (1): Tesla T4, Compute Capability 7.5\n",
      "I0000 00:00:1749768231.058652      61 cuda_dnn.cc:529] Loaded cuDNN version 90300\n"
     ]
    },
    {
     "name": "stdout",
     "output_type": "stream",
     "text": [
      "\u001b[1m  73/2770\u001b[0m \u001b[37m━━━━━━━━━━━━━━━━━━━━\u001b[0m \u001b[1m5s\u001b[0m 2ms/step - accuracy: 0.5982 - loss: 0.6724"
     ]
    },
    {
     "name": "stderr",
     "output_type": "stream",
     "text": [
      "I0000 00:00:1749768232.519014      61 device_compiler.h:188] Compiled cluster using XLA!  This line is logged at most once for the lifetime of the process.\n"
     ]
    },
    {
     "name": "stdout",
     "output_type": "stream",
     "text": [
      "\u001b[1m2770/2770\u001b[0m \u001b[32m━━━━━━━━━━━━━━━━━━━━\u001b[0m\u001b[37m\u001b[0m \u001b[1m14s\u001b[0m 4ms/step - accuracy: 0.9005 - loss: 0.2239 - val_accuracy: 0.8627 - val_loss: 0.6334\n",
      "Epoch 2/50\n",
      "\u001b[1m2770/2770\u001b[0m \u001b[32m━━━━━━━━━━━━━━━━━━━━\u001b[0m\u001b[37m\u001b[0m \u001b[1m8s\u001b[0m 3ms/step - accuracy: 0.9775 - loss: 0.0598 - val_accuracy: 0.8640 - val_loss: 0.7124\n",
      "Epoch 3/50\n",
      "\u001b[1m2770/2770\u001b[0m \u001b[32m━━━━━━━━━━━━━━━━━━━━\u001b[0m\u001b[37m\u001b[0m \u001b[1m8s\u001b[0m 3ms/step - accuracy: 0.9829 - loss: 0.0441 - val_accuracy: 0.8623 - val_loss: 0.8522\n",
      "Epoch 4/50\n",
      "\u001b[1m2770/2770\u001b[0m \u001b[32m━━━━━━━━━━━━━━━━━━━━\u001b[0m\u001b[37m\u001b[0m \u001b[1m8s\u001b[0m 3ms/step - accuracy: 0.9841 - loss: 0.0408 - val_accuracy: 0.8665 - val_loss: 0.7983\n",
      "Epoch 5/50\n",
      "\u001b[1m2770/2770\u001b[0m \u001b[32m━━━━━━━━━━━━━━━━━━━━\u001b[0m\u001b[37m\u001b[0m \u001b[1m8s\u001b[0m 3ms/step - accuracy: 0.9872 - loss: 0.0338 - val_accuracy: 0.8648 - val_loss: 0.8909\n",
      "Epoch 6/50\n",
      "\u001b[1m2770/2770\u001b[0m \u001b[32m━━━━━━━━━━━━━━━━━━━━\u001b[0m\u001b[37m\u001b[0m \u001b[1m8s\u001b[0m 3ms/step - accuracy: 0.9873 - loss: 0.0326 - val_accuracy: 0.8655 - val_loss: 0.8114\n",
      "Epoch 7/50\n",
      "\u001b[1m2770/2770\u001b[0m \u001b[32m━━━━━━━━━━━━━━━━━━━━\u001b[0m\u001b[37m\u001b[0m \u001b[1m8s\u001b[0m 3ms/step - accuracy: 0.9878 - loss: 0.0314 - val_accuracy: 0.8671 - val_loss: 1.0497\n",
      "Epoch 8/50\n",
      "\u001b[1m2770/2770\u001b[0m \u001b[32m━━━━━━━━━━━━━━━━━━━━\u001b[0m\u001b[37m\u001b[0m \u001b[1m8s\u001b[0m 3ms/step - accuracy: 0.9886 - loss: 0.0300 - val_accuracy: 0.8682 - val_loss: 0.8685\n",
      "Epoch 9/50\n",
      "\u001b[1m2770/2770\u001b[0m \u001b[32m━━━━━━━━━━━━━━━━━━━━\u001b[0m\u001b[37m\u001b[0m \u001b[1m8s\u001b[0m 3ms/step - accuracy: 0.9890 - loss: 0.0288 - val_accuracy: 0.8635 - val_loss: 0.9841\n",
      "Epoch 10/50\n",
      "\u001b[1m2770/2770\u001b[0m \u001b[32m━━━━━━━━━━━━━━━━━━━━\u001b[0m\u001b[37m\u001b[0m \u001b[1m8s\u001b[0m 3ms/step - accuracy: 0.9896 - loss: 0.0272 - val_accuracy: 0.8687 - val_loss: 1.0777\n",
      "Epoch 11/50\n",
      "\u001b[1m2770/2770\u001b[0m \u001b[32m━━━━━━━━━━━━━━━━━━━━\u001b[0m\u001b[37m\u001b[0m \u001b[1m8s\u001b[0m 3ms/step - accuracy: 0.9892 - loss: 0.0277 - val_accuracy: 0.8674 - val_loss: 1.1792\n"
     ]
    }
   ],
   "source": [
    "early_stopping = tf.keras.callbacks.EarlyStopping(\n",
    "    monitor='val_loss', \n",
    "    patience=10,          # Jumlah epoch untuk menunggu sebelum berhenti\n",
    "    restore_best_weights=True # Mengembalikan bobot dari epoch terbaik\n",
    ")\n",
    "\n",
    "# Melatih model\n",
    "history = model.fit(\n",
    "    X_train_scaled,\n",
    "    y_train,\n",
    "    epochs=50,             # Jumlah maksimum epoch\n",
    "    batch_size=32,\n",
    "    validation_data=(X_test_scaled, y_test),\n",
    "    callbacks=[early_stopping],\n",
    "    verbose=1\n",
    ")"
   ]
  },
  {
   "cell_type": "markdown",
   "id": "332b8714",
   "metadata": {
    "papermill": {
     "duration": 0.099268,
     "end_time": "2025-06-12T22:45:24.993265",
     "exception": false,
     "start_time": "2025-06-12T22:45:24.893997",
     "status": "completed"
    },
    "tags": []
   },
   "source": [
    "## Evaluasi Model"
   ]
  },
  {
   "cell_type": "code",
   "execution_count": 11,
   "id": "3301d480",
   "metadata": {
    "execution": {
     "iopub.execute_input": "2025-06-12T22:45:25.102091Z",
     "iopub.status.busy": "2025-06-12T22:45:25.101472Z",
     "iopub.status.idle": "2025-06-12T22:45:25.456226Z",
     "shell.execute_reply": "2025-06-12T22:45:25.455507Z"
    },
    "papermill": {
     "duration": 0.409794,
     "end_time": "2025-06-12T22:45:25.457658",
     "exception": false,
     "start_time": "2025-06-12T22:45:25.047864",
     "status": "completed"
    },
    "tags": []
   },
   "outputs": [
    {
     "data": {
      "image/png": "[encoded data removed]",
      "text/plain": [
       "<Figure size 1200x400 with 2 Axes>"
      ]
     },
     "metadata": {},
     "output_type": "display_data"
    }
   ],
   "source": [
    "# Fungsi untuk plot history training\n",
    "def plot_training_history(history):\n",
    "    # Plot akurasi training dan validasi\n",
    "    acc = history.history['accuracy']\n",
    "    val_acc = history.history['val_accuracy']\n",
    "    loss = history.history['loss']\n",
    "    val_loss = history.history['val_loss']\n",
    "\n",
    "    epochs_range = range(len(acc))\n",
    "\n",
    "    plt.figure(figsize=(12, 4))\n",
    "    plt.subplot(1, 2, 1)\n",
    "    plt.plot(epochs_range, acc, label='Training Accuracy')\n",
    "    plt.plot(epochs_range, val_acc, label='Validation Accuracy')\n",
    "    plt.legend(loc='lower right')\n",
    "    plt.title('Training and Validation Accuracy')\n",
    "    plt.xlabel('Epoch')\n",
    "    plt.ylabel('Accuracy')\n",
    "    plt.grid(True)\n",
    "\n",
    "    # Plot loss training dan validasi\n",
    "    plt.subplot(1, 2, 2)\n",
    "    plt.plot(epochs_range, loss, label='Training Loss')\n",
    "    plt.plot(epochs_range, val_loss, label='Validation Loss')\n",
    "    plt.legend(loc='upper right')\n",
    "    plt.title('Training and Validation Loss')\n",
    "    plt.xlabel('Epoch')\n",
    "    plt.ylabel('Loss')\n",
    "    plt.grid(True)\n",
    "\n",
    "    plt.tight_layout()\n",
    "    plt.show()\n",
    "\n",
    "# Panggil fungsi untuk memvisualisasikan history training\n",
    "plot_training_history(history)"
   ]
  },
  {
   "cell_type": "code",
   "execution_count": 12,
   "id": "b8e4a0d8",
   "metadata": {
    "execution": {
     "iopub.execute_input": "2025-06-12T22:45:25.570202Z",
     "iopub.status.busy": "2025-06-12T22:45:25.569686Z",
     "iopub.status.idle": "2025-06-12T22:45:28.234061Z",
     "shell.execute_reply": "2025-06-12T22:45:28.233308Z"
    },
    "papermill": {
     "duration": 2.721251,
     "end_time": "2025-06-12T22:45:28.235313",
     "exception": false,
     "start_time": "2025-06-12T22:45:25.514062",
     "status": "completed"
    },
    "tags": []
   },
   "outputs": [
    {
     "name": "stdout",
     "output_type": "stream",
     "text": [
      "\n",
      "--- Mengevaluasi Model pada Test Set ---\n",
      "Test Accuracy: 0.8627\n",
      "Test Loss: 0.6334\n"
     ]
    }
   ],
   "source": [
    "# Evaluasi pada test set\n",
    "print(\"\\n--- Mengevaluasi Model pada Test Set ---\")\n",
    "loss, accuracy = model.evaluate(X_test_scaled, y_test, verbose=0)\n",
    "print(f\"Test Accuracy: {accuracy:.4f}\")\n",
    "print(f\"Test Loss: {loss:.4f}\")"
   ]
  },
  {
   "cell_type": "code",
   "execution_count": 13,
   "id": "f3908563",
   "metadata": {
    "execution": {
     "iopub.execute_input": "2025-06-12T22:45:28.350211Z",
     "iopub.status.busy": "2025-06-12T22:45:28.349943Z",
     "iopub.status.idle": "2025-06-12T22:45:31.090483Z",
     "shell.execute_reply": "2025-06-12T22:45:31.089561Z"
    },
    "papermill": {
     "duration": 2.801522,
     "end_time": "2025-06-12T22:45:31.091635",
     "exception": false,
     "start_time": "2025-06-12T22:45:28.290113",
     "status": "completed"
    },
    "tags": []
   },
   "outputs": [
    {
     "name": "stdout",
     "output_type": "stream",
     "text": [
      "\n",
      "--- Laporan Klasifikasi ---\n",
      "\u001b[1m1375/1375\u001b[0m \u001b[32m━━━━━━━━━━━━━━━━━━━━\u001b[0m\u001b[37m\u001b[0m \u001b[1m2s\u001b[0m 1ms/step\n",
      "                precision    recall  f1-score   support\n",
      "\n",
      "Non-Stress (0)       0.91      0.90      0.90     30863\n",
      "    Stress (1)       0.76      0.78      0.77     13132\n",
      "\n",
      "      accuracy                           0.86     43995\n",
      "     macro avg       0.84      0.84      0.84     43995\n",
      "  weighted avg       0.86      0.86      0.86     43995\n",
      "\n"
     ]
    }
   ],
   "source": [
    "# Laporan Klasifikasi dan Confusion Matrix\n",
    "print(\"\\n--- Laporan Klasifikasi ---\")\n",
    "# Mendapatkan prediksi probabilitas\n",
    "y_pred_proba = model.predict(X_test_scaled).flatten()\n",
    "# Mengonversi probabilitas menjadi kelas biner (0 atau 1) dengan threshold 0.5\n",
    "y_pred = (y_pred_proba > 0.5).astype(int)\n",
    "\n",
    "# Mencetak laporan\n",
    "print(classification_report(y_test, y_pred, target_names=['Non-Stress (0)', 'Stress (1)']))"
   ]
  },
  {
   "cell_type": "code",
   "execution_count": 14,
   "id": "242a79fa",
   "metadata": {
    "execution": {
     "iopub.execute_input": "2025-06-12T22:45:31.205631Z",
     "iopub.status.busy": "2025-06-12T22:45:31.205172Z",
     "iopub.status.idle": "2025-06-12T22:45:31.360586Z",
     "shell.execute_reply": "2025-06-12T22:45:31.359837Z"
    },
    "papermill": {
     "duration": 0.213508,
     "end_time": "2025-06-12T22:45:31.361765",
     "exception": false,
     "start_time": "2025-06-12T22:45:31.148257",
     "status": "completed"
    },
    "tags": []
   },
   "outputs": [
    {
     "data": {
      "image/png": "[encoded data removed]",
      "text/plain": [
       "<Figure size 800x600 with 2 Axes>"
      ]
     },
     "metadata": {},
     "output_type": "display_data"
    }
   ],
   "source": [
    "# Menampilkan confusion matrix\n",
    "cm = confusion_matrix(y_test, y_pred)\n",
    "plt.figure(figsize=(8, 6))\n",
    "sns.heatmap(cm, annot=True, fmt='d', cmap='Blues', xticklabels=['Non-Stress', 'Stress'], yticklabels=['Non-Stress', 'Stress'])\n",
    "plt.xlabel('Prediksi')\n",
    "plt.ylabel('Aktual')\n",
    "plt.title('Confusion Matrix')\n",
    "plt.show()"
   ]
  },
  {
   "cell_type": "markdown",
   "id": "60ab75b8",
   "metadata": {
    "papermill": {
     "duration": 0.059768,
     "end_time": "2025-06-12T22:45:31.482180",
     "exception": false,
     "start_time": "2025-06-12T22:45:31.422412",
     "status": "completed"
    },
    "tags": []
   },
   "source": [
    "## Menyimpan Model"
   ]
  },
  {
   "cell_type": "code",
   "execution_count": 15,
   "id": "1c0c3e91",
   "metadata": {
    "execution": {
     "iopub.execute_input": "2025-06-12T22:45:31.601558Z",
     "iopub.status.busy": "2025-06-12T22:45:31.601078Z",
     "iopub.status.idle": "2025-06-12T22:45:31.631661Z",
     "shell.execute_reply": "2025-06-12T22:45:31.630953Z"
    },
    "papermill": {
     "duration": 0.092109,
     "end_time": "2025-06-12T22:45:31.632854",
     "exception": false,
     "start_time": "2025-06-12T22:45:31.540745",
     "status": "completed"
    },
    "tags": []
   },
   "outputs": [],
   "source": [
    "model.save('/kaggle/working/wesad_model.h5')"
   ]
  }
 ],
 "metadata": {
  "kaggle": {
   "accelerator": "nvidiaTeslaT4",
   "dataSources": [
    {
     "datasetId": 7650460,
     "sourceId": 12147038,
     "sourceType": "datasetVersion"
    }
   ],
   "dockerImageVersionId": 31041,
   "isGpuEnabled": true,
   "isInternetEnabled": true,
   "language": "python",
   "sourceType": "notebook"
  },
  "kernelspec": {
   "display_name": "Python 3",
   "language": "python",
   "name": "python3"
  },
  "language_info": {
   "codemirror_mode": {
    "name": "ipython",
    "version": 3
   },
   "file_extension": ".py",
   "mimetype": "text/x-python",
   "name": "python",
   "nbconvert_exporter": "python",
   "pygments_lexer": "ipython3",
   "version": "3.11.11"
  },
  "papermill": {
   "default_parameters": {},
   "duration": 131.364449,
   "end_time": "2025-06-12T22:45:34.651794",
   "environment_variables": {},
   "exception": null,
   "input_path": "__notebook__.ipynb",
   "output_path": "__notebook__.ipynb",
   "parameters": {},
   "start_time": "2025-06-12T22:43:23.287345",
   "version": "2.6.0"
  }
 },
 "nbformat": 4,
 "nbformat_minor": 5
}
