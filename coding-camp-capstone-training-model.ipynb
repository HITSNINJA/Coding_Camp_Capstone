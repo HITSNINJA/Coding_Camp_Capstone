{
 "cells": [
  {
   "cell_type": "markdown",
   "id": "08352614",
   "metadata": {
    "papermill": {
     "duration": 0.004011,
     "end_time": "2025-06-13T03:15:00.677371",
     "exception": false,
     "start_time": "2025-06-13T03:15:00.673360",
     "status": "completed"
    },
    "tags": []
   },
   "source": [
    "# Stress Detection using Wearable Devices to Enhance Well-Being | Model Training"
   ]
  },
  {
   "cell_type": "markdown",
   "id": "0d9eb1c0",
   "metadata": {
    "papermill": {
     "duration": 0.002842,
     "end_time": "2025-06-13T03:15:00.683655",
     "exception": false,
     "start_time": "2025-06-13T03:15:00.680813",
     "status": "completed"
    },
    "tags": []
   },
   "source": [
    "ID Tim: CC25-CR439"
   ]
  },
  {
   "cell_type": "markdown",
   "id": "cd617024",
   "metadata": {},
   "source": [
    "**Pendahuluan**\n",
    "\n",
    "Notebook ini mendokumentasikan proses pembangunan dan evaluasi model deep learning untuk klasifikasi stres menggunakan data dari dataset WESAD (Wearable Stress and Affect Detection). Tujuannya adalah untuk menciptakan model yang mampu membedakan antara kondisi \"Stres\" dan \"Non-Stres\" berdasarkan fitur-fitur yang diekstrak dari sinyal fisiologis yang direkam melalui perangkat wearable.\n",
    "\n",
    "**Metodologi**\n",
    "\n",
    "Proses yang dilakukan mencakup beberapa tahapan kunci:\n",
    "\n",
    "- Dataset: Data fitur yang telah diekstrak sebelumnya dari dataset WESAD digunakan, yang dimuat dari file combined.csv.\n",
    "- Target: Tugas ini merupakan klasifikasi biner (Stres vs. Non-Stres). Label multi-kelas asli diubah, di mana label 2 (stress) dipetakan menjadi kelas 1 (Stres), dan label 1 (baseline) & 3 (amusement) dipetakan menjadi kelas 0 (Non-Stres).\n",
    "- Pembagian Data: Untuk memastikan model dapat melakukan generalisasi pada individu yang belum pernah dilihat, data dibagi menjadi set training (70%) dan testing (30%) dengan metode pemisahan berbasis subjek (subject-independent split).\n",
    "- Preprocessing: Fitur-fitur numerik pada data training dan testing kemudian diskalakan menggunakan StandardScaler untuk menormalisasi rentang nilainya.\n",
    "- Arsitektur Model: Model yang dibangun adalah Multi-Layer Perceptron (MLP) menggunakan TensorFlow dan Keras. Arsitekturnya terdiri dari beberapa hidden layer (Dense) dengan fungsi aktivasi ReLU, serta layer Dropout untuk regularisasi dan mencegah overfitting. Output layer menggunakan satu neuron dengan aktivasi sigmoid yang cocok untuk klasifikasi biner.\n",
    "- Pelatihan: Model dilatih menggunakan optimizer adam dan loss function binary_crossentropy. Callback EarlyStopping juga diterapkan untuk menghentikan pelatihan secara otomatis jika val_loss tidak menunjukkan peningkatan selama 10 epoch.\n",
    "\n",
    "**Hasil**\n",
    "\n",
    "Setelah proses pelatihan dan evaluasi pada test set, model menunjukkan performa yang menjanjikan:\n",
    "\n",
    "- Akurasi Tes: Model mencapai akurasi akhir sekitar 85.3% pada data subjek yang belum pernah dilihat sebelumnya.\n",
    "- F1-Score: Model menunjukkan kemampuan yang baik dalam mengidentifikasi kedua kelas, dengan F1-Score sekitar 89% untuk kelas Non-Stres dan 76% untuk kelas Stres.\n",
    "- Analisis Training: Grafik riwayat pelatihan menunjukkan bahwa model mulai mengalami overfitting pada epoch-epoch selanjutnya (akurasi training mencapai ~98% sementara akurasi validasi stagnan di ~85%) , yang berhasil ditangani dengan baik oleh mekanisme EarlyStopping.\n",
    "\n",
    "**Kesimpulan**\n",
    "\n",
    "Model MLP yang dikembangkan berhasil membedakan antara kondisi stres dan non-stres dengan tingkat akurasi dan keandalan yang baik. Model akhir (wesad_model.h5) beserta objek scaler yang sesuai (scaler.pkl) telah disimpan untuk dapat digunakan pada tahap selanjutnya, seperti implementasi pada aplikasi untuk inferensi secara real-time"
   ]
  },
  {
   "cell_type": "markdown",
   "id": "91a73ddf",
   "metadata": {
    "papermill": {
     "duration": 0.002742,
     "end_time": "2025-06-13T03:15:00.689410",
     "exception": false,
     "start_time": "2025-06-13T03:15:00.686668",
     "status": "completed"
    },
    "tags": []
   },
   "source": [
    "## Import Library"
   ]
  },
  {
   "cell_type": "code",
   "execution_count": 1,
   "id": "7c36b6a9",
   "metadata": {
    "_cell_guid": "b1076dfc-b9ad-4769-8c92-a6c4dae69d19",
    "_uuid": "8f2839f25d086af736a60e9eeb907d3b93b6e0e5",
    "execution": {
     "iopub.execute_input": "2025-06-13T03:15:00.696330Z",
     "iopub.status.busy": "2025-06-13T03:15:00.696105Z",
     "iopub.status.idle": "2025-06-13T03:15:16.819016Z",
     "shell.execute_reply": "2025-06-13T03:15:16.818442Z"
    },
    "papermill": {
     "duration": 16.127898,
     "end_time": "2025-06-13T03:15:16.820384",
     "exception": false,
     "start_time": "2025-06-13T03:15:00.692486",
     "status": "completed"
    },
    "tags": []
   },
   "outputs": [
    {
     "name": "stderr",
     "output_type": "stream",
     "text": [
      "2025-06-13 03:15:03.966838: E external/local_xla/xla/stream_executor/cuda/cuda_fft.cc:477] Unable to register cuFFT factory: Attempting to register factory for plugin cuFFT when one has already been registered\n",
      "WARNING: All log messages before absl::InitializeLog() is called are written to STDERR\n",
      "E0000 00:00:1749784504.167118      19 cuda_dnn.cc:8310] Unable to register cuDNN factory: Attempting to register factory for plugin cuDNN when one has already been registered\n",
      "E0000 00:00:1749784504.227753      19 cuda_blas.cc:1418] Unable to register cuBLAS factory: Attempting to register factory for plugin cuBLAS when one has already been registered\n"
     ]
    }
   ],
   "source": [
    "import pandas as pd\n",
    "import numpy as np\n",
    "import tensorflow as tf\n",
    "from sklearn.model_selection import train_test_split\n",
    "from sklearn.preprocessing import StandardScaler\n",
    "from sklearn.metrics import classification_report, confusion_matrix\n",
    "from sklearn.utils.class_weight import compute_class_weight\n",
    "import seaborn as sns\n",
    "import matplotlib.pyplot as plt\n",
    "import joblib"
   ]
  },
  {
   "cell_type": "markdown",
   "id": "0b0c7003",
   "metadata": {
    "papermill": {
     "duration": 0.002818,
     "end_time": "2025-06-13T03:15:16.826949",
     "exception": false,
     "start_time": "2025-06-13T03:15:16.824131",
     "status": "completed"
    },
    "tags": []
   },
   "source": [
    "## Data Loading & Preparation"
   ]
  },
  {
   "cell_type": "code",
   "execution_count": 2,
   "id": "024b7d98",
   "metadata": {
    "execution": {
     "iopub.execute_input": "2025-06-13T03:15:16.834360Z",
     "iopub.status.busy": "2025-06-13T03:15:16.833658Z",
     "iopub.status.idle": "2025-06-13T03:15:17.947430Z",
     "shell.execute_reply": "2025-06-13T03:15:17.946501Z"
    },
    "papermill": {
     "duration": 1.118912,
     "end_time": "2025-06-13T03:15:17.948949",
     "exception": false,
     "start_time": "2025-06-13T03:15:16.830037",
     "status": "completed"
    },
    "tags": []
   },
   "outputs": [],
   "source": [
    "dataset_dir = '/kaggle/input/wesad-combined-feature-extracted/combined.csv'\n",
    "df = pd.read_csv(dataset_dir)\n",
    "df = df.drop(columns=['Unnamed: 0'])"
   ]
  },
  {
   "cell_type": "code",
   "execution_count": 3,
   "id": "dc01e668",
   "metadata": {
    "execution": {
     "iopub.execute_input": "2025-06-13T03:15:17.957123Z",
     "iopub.status.busy": "2025-06-13T03:15:17.956840Z",
     "iopub.status.idle": "2025-06-13T03:15:17.968254Z",
     "shell.execute_reply": "2025-06-13T03:15:17.967456Z"
    },
    "papermill": {
     "duration": 0.01675,
     "end_time": "2025-06-13T03:15:17.969539",
     "exception": false,
     "start_time": "2025-06-13T03:15:17.952789",
     "status": "completed"
    },
    "tags": []
   },
   "outputs": [],
   "source": [
    "# Memilih Fitur (X) dan Target (y)\n",
    "# Hapus kolom yang tidak relevan untuk menjadi fitur\n",
    "features = df.drop(columns=['timestamp', 'label', 'subject'])\n",
    "target = df['label']"
   ]
  },
  {
   "cell_type": "code",
   "execution_count": 4,
   "id": "f77329cb",
   "metadata": {
    "execution": {
     "iopub.execute_input": "2025-06-13T03:15:17.976829Z",
     "iopub.status.busy": "2025-06-13T03:15:17.976410Z",
     "iopub.status.idle": "2025-06-13T03:15:18.021672Z",
     "shell.execute_reply": "2025-06-13T03:15:18.020940Z"
    },
    "papermill": {
     "duration": 0.050018,
     "end_time": "2025-06-13T03:15:18.022789",
     "exception": false,
     "start_time": "2025-06-13T03:15:17.972771",
     "status": "completed"
    },
    "tags": []
   },
   "outputs": [],
   "source": [
    "# Konversi ke Masalah Klasifikasi Biner\n",
    "# Mengubah label menjadi 0 (non-stres) dan 1 (stres)\n",
    "# Label 2 adalah 'stress', sedangkan 1 ('baseline') dan 3 ('amusement') adalah 'non-stress'\n",
    "y_binary = target.apply(lambda x: 1 if x == 2 else 0)\n",
    "X = features"
   ]
  },
  {
   "cell_type": "code",
   "execution_count": 5,
   "id": "03044d3f",
   "metadata": {
    "execution": {
     "iopub.execute_input": "2025-06-13T03:15:18.030125Z",
     "iopub.status.busy": "2025-06-13T03:15:18.029449Z",
     "iopub.status.idle": "2025-06-13T03:15:18.055897Z",
     "shell.execute_reply": "2025-06-13T03:15:18.054953Z"
    },
    "papermill": {
     "duration": 0.031346,
     "end_time": "2025-06-13T03:15:18.057292",
     "exception": false,
     "start_time": "2025-06-13T03:15:18.025946",
     "status": "completed"
    },
    "tags": []
   },
   "outputs": [
    {
     "name": "stdout",
     "output_type": "stream",
     "text": [
      "Jumlah data training: 88628\n",
      "Jumlah data testing: 43995\n",
      "------------------------------\n"
     ]
    }
   ],
   "source": [
    "# Pembagian Data (Train-Test Split) Berdasarkan Subjek\n",
    "# Metode ini dipilih karena lebih baik daripada split acak seperti biasanya\n",
    "# karena memastikan model diuji pada subjek yang belum pernah dilihat sebelumnya.\n",
    "subjects = df['subject'].unique()\n",
    "train_subjects, test_subjects = train_test_split(subjects, test_size=0.3, random_state=42)\n",
    "\n",
    "# Buat set data train dan test berdasarkan subjek yang telah dibagi\n",
    "train_indices = df['subject'].isin(train_subjects)\n",
    "test_indices = df['subject'].isin(test_subjects)\n",
    "\n",
    "X_train, X_test = X[train_indices], X[test_indices]\n",
    "y_train, y_test = y_binary[train_indices], y_binary[test_indices]\n",
    "\n",
    "print(f\"Jumlah data training: {len(X_train)}\")\n",
    "print(f\"Jumlah data testing: {len(X_test)}\")\n",
    "print(\"-\" * 30)"
   ]
  },
  {
   "cell_type": "code",
   "execution_count": 6,
   "id": "2e174d98",
   "metadata": {
    "execution": {
     "iopub.execute_input": "2025-06-13T03:15:18.065256Z",
     "iopub.status.busy": "2025-06-13T03:15:18.064997Z",
     "iopub.status.idle": "2025-06-13T03:15:18.347118Z",
     "shell.execute_reply": "2025-06-13T03:15:18.346395Z"
    },
    "papermill": {
     "duration": 0.287315,
     "end_time": "2025-06-13T03:15:18.348429",
     "exception": false,
     "start_time": "2025-06-13T03:15:18.061114",
     "status": "completed"
    },
    "tags": []
   },
   "outputs": [
    {
     "data": {
      "image/png": "[encoded data removed]",
      "text/plain": [
       "<Figure size 800x600 with 1 Axes>"
      ]
     },
     "metadata": {},
     "output_type": "display_data"
    }
   ],
   "source": [
    "# Melihat distribusi label pada train dan test\n",
    "train_df = pd.DataFrame({'label': y_train, 'Set': 'Training'})\n",
    "test_df = pd.DataFrame({'label': y_test, 'Set': 'Testing'})\n",
    "combined_df = pd.concat([train_df, test_df])\n",
    "\n",
    "# Buat plot menggunakan seaborn.countplot\n",
    "plt.figure(figsize=(8, 6))\n",
    "sns.countplot(data=combined_df, x='label', hue='Set')\n",
    "\n",
    "plt.title('Perbandingan Distribusi Label (Stress vs. Non-Stress)', fontsize=16)\n",
    "plt.xlabel('Kelas', fontsize=12)\n",
    "plt.ylabel('Jumlah (Count)', fontsize=12)\n",
    "plt.xticks(ticks=[0, 1], labels=['Non-Stress', 'Stress'])\n",
    "plt.legend(title='Set Data')\n",
    "plt.grid(axis='y', linestyle='--', alpha=0.7)\n",
    "\n",
    "plt.show()"
   ]
  },
  {
   "cell_type": "code",
   "execution_count": 7,
   "id": "eda06a12",
   "metadata": {
    "execution": {
     "iopub.execute_input": "2025-06-13T03:15:18.356720Z",
     "iopub.status.busy": "2025-06-13T03:15:18.356496Z",
     "iopub.status.idle": "2025-06-13T03:15:18.418432Z",
     "shell.execute_reply": "2025-06-13T03:15:18.417694Z"
    },
    "papermill": {
     "duration": 0.067487,
     "end_time": "2025-06-13T03:15:18.419730",
     "exception": false,
     "start_time": "2025-06-13T03:15:18.352243",
     "status": "completed"
    },
    "tags": []
   },
   "outputs": [],
   "source": [
    "# Feature Scaling\n",
    "scaler = StandardScaler()\n",
    "X_train_scaled = scaler.fit_transform(X_train)\n",
    "X_test_scaled = scaler.transform(X_test)"
   ]
  },
  {
   "cell_type": "markdown",
   "id": "cb3de279",
   "metadata": {
    "papermill": {
     "duration": 0.004437,
     "end_time": "2025-06-13T03:15:18.429138",
     "exception": false,
     "start_time": "2025-06-13T03:15:18.424701",
     "status": "completed"
    },
    "tags": []
   },
   "source": [
    "## Modelling"
   ]
  },
  {
   "cell_type": "code",
   "execution_count": 8,
   "id": "a0d17972",
   "metadata": {
    "execution": {
     "iopub.execute_input": "2025-06-13T03:15:18.437375Z",
     "iopub.status.busy": "2025-06-13T03:15:18.437137Z",
     "iopub.status.idle": "2025-06-13T03:15:20.975746Z",
     "shell.execute_reply": "2025-06-13T03:15:20.975214Z"
    },
    "papermill": {
     "duration": 2.543784,
     "end_time": "2025-06-13T03:15:20.976764",
     "exception": false,
     "start_time": "2025-06-13T03:15:18.432980",
     "status": "completed"
    },
    "tags": []
   },
   "outputs": [
    {
     "name": "stderr",
     "output_type": "stream",
     "text": [
      "/usr/local/lib/python3.11/dist-packages/keras/src/layers/core/dense.py:87: UserWarning: Do not pass an `input_shape`/`input_dim` argument to a layer. When using Sequential models, prefer using an `Input(shape)` object as the first layer in the model instead.\n",
      "  super().__init__(activity_regularizer=activity_regularizer, **kwargs)\n",
      "I0000 00:00:1749784519.735264      19 gpu_device.cc:2022] Created device /job:localhost/replica:0/task:0/device:GPU:0 with 13942 MB memory:  -> device: 0, name: Tesla T4, pci bus id: 0000:00:04.0, compute capability: 7.5\n",
      "I0000 00:00:1749784519.735927      19 gpu_device.cc:2022] Created device /job:localhost/replica:0/task:0/device:GPU:1 with 13942 MB memory:  -> device: 1, name: Tesla T4, pci bus id: 0000:00:05.0, compute capability: 7.5\n"
     ]
    },
    {
     "data": {
      "text/html": [
       "<pre style=\"white-space:pre;overflow-x:auto;line-height:normal;font-family:Menlo,'DejaVu Sans Mono',consolas,'Courier New',monospace\"><span style=\"font-weight: bold\">Model: \"sequential\"</span>\n",
       "</pre>\n"
      ],
      "text/plain": [
       "\u001b[1mModel: \"sequential\"\u001b[0m\n"
      ]
     },
     "metadata": {},
     "output_type": "display_data"
    },
    {
     "data": {
      "text/html": [
       "<pre style=\"white-space:pre;overflow-x:auto;line-height:normal;font-family:Menlo,'DejaVu Sans Mono',consolas,'Courier New',monospace\">┏━━━━━━━━━━━━━━━━━━━━━━━━━━━━━━━━━━━━━━┳━━━━━━━━━━━━━━━━━━━━━━━━━━━━━┳━━━━━━━━━━━━━━━━━┓\n",
       "┃<span style=\"font-weight: bold\"> Layer (type)                         </span>┃<span style=\"font-weight: bold\"> Output Shape                </span>┃<span style=\"font-weight: bold\">         Param # </span>┃\n",
       "┡━━━━━━━━━━━━━━━━━━━━━━━━━━━━━━━━━━━━━━╇━━━━━━━━━━━━━━━━━━━━━━━━━━━━━╇━━━━━━━━━━━━━━━━━┩\n",
       "│ dense (<span style=\"color: #0087ff; text-decoration-color: #0087ff\">Dense</span>)                        │ (<span style=\"color: #00d7ff; text-decoration-color: #00d7ff\">None</span>, <span style=\"color: #00af00; text-decoration-color: #00af00\">64</span>)                  │           <span style=\"color: #00af00; text-decoration-color: #00af00\">1,536</span> │\n",
       "├──────────────────────────────────────┼─────────────────────────────┼─────────────────┤\n",
       "│ dropout (<span style=\"color: #0087ff; text-decoration-color: #0087ff\">Dropout</span>)                    │ (<span style=\"color: #00d7ff; text-decoration-color: #00d7ff\">None</span>, <span style=\"color: #00af00; text-decoration-color: #00af00\">64</span>)                  │               <span style=\"color: #00af00; text-decoration-color: #00af00\">0</span> │\n",
       "├──────────────────────────────────────┼─────────────────────────────┼─────────────────┤\n",
       "│ dense_1 (<span style=\"color: #0087ff; text-decoration-color: #0087ff\">Dense</span>)                      │ (<span style=\"color: #00d7ff; text-decoration-color: #00d7ff\">None</span>, <span style=\"color: #00af00; text-decoration-color: #00af00\">32</span>)                  │           <span style=\"color: #00af00; text-decoration-color: #00af00\">2,080</span> │\n",
       "├──────────────────────────────────────┼─────────────────────────────┼─────────────────┤\n",
       "│ dropout_1 (<span style=\"color: #0087ff; text-decoration-color: #0087ff\">Dropout</span>)                  │ (<span style=\"color: #00d7ff; text-decoration-color: #00d7ff\">None</span>, <span style=\"color: #00af00; text-decoration-color: #00af00\">32</span>)                  │               <span style=\"color: #00af00; text-decoration-color: #00af00\">0</span> │\n",
       "├──────────────────────────────────────┼─────────────────────────────┼─────────────────┤\n",
       "│ dense_2 (<span style=\"color: #0087ff; text-decoration-color: #0087ff\">Dense</span>)                      │ (<span style=\"color: #00d7ff; text-decoration-color: #00d7ff\">None</span>, <span style=\"color: #00af00; text-decoration-color: #00af00\">1</span>)                   │              <span style=\"color: #00af00; text-decoration-color: #00af00\">33</span> │\n",
       "└──────────────────────────────────────┴─────────────────────────────┴─────────────────┘\n",
       "</pre>\n"
      ],
      "text/plain": [
       "┏━━━━━━━━━━━━━━━━━━━━━━━━━━━━━━━━━━━━━━┳━━━━━━━━━━━━━━━━━━━━━━━━━━━━━┳━━━━━━━━━━━━━━━━━┓\n",
       "┃\u001b[1m \u001b[0m\u001b[1mLayer (type)                        \u001b[0m\u001b[1m \u001b[0m┃\u001b[1m \u001b[0m\u001b[1mOutput Shape               \u001b[0m\u001b[1m \u001b[0m┃\u001b[1m \u001b[0m\u001b[1m        Param #\u001b[0m\u001b[1m \u001b[0m┃\n",
       "┡━━━━━━━━━━━━━━━━━━━━━━━━━━━━━━━━━━━━━━╇━━━━━━━━━━━━━━━━━━━━━━━━━━━━━╇━━━━━━━━━━━━━━━━━┩\n",
       "│ dense (\u001b[38;5;33mDense\u001b[0m)                        │ (\u001b[38;5;45mNone\u001b[0m, \u001b[38;5;34m64\u001b[0m)                  │           \u001b[38;5;34m1,536\u001b[0m │\n",
       "├──────────────────────────────────────┼─────────────────────────────┼─────────────────┤\n",
       "│ dropout (\u001b[38;5;33mDropout\u001b[0m)                    │ (\u001b[38;5;45mNone\u001b[0m, \u001b[38;5;34m64\u001b[0m)                  │               \u001b[38;5;34m0\u001b[0m │\n",
       "├──────────────────────────────────────┼─────────────────────────────┼─────────────────┤\n",
       "│ dense_1 (\u001b[38;5;33mDense\u001b[0m)                      │ (\u001b[38;5;45mNone\u001b[0m, \u001b[38;5;34m32\u001b[0m)                  │           \u001b[38;5;34m2,080\u001b[0m │\n",
       "├──────────────────────────────────────┼─────────────────────────────┼─────────────────┤\n",
       "│ dropout_1 (\u001b[38;5;33mDropout\u001b[0m)                  │ (\u001b[38;5;45mNone\u001b[0m, \u001b[38;5;34m32\u001b[0m)                  │               \u001b[38;5;34m0\u001b[0m │\n",
       "├──────────────────────────────────────┼─────────────────────────────┼─────────────────┤\n",
       "│ dense_2 (\u001b[38;5;33mDense\u001b[0m)                      │ (\u001b[38;5;45mNone\u001b[0m, \u001b[38;5;34m1\u001b[0m)                   │              \u001b[38;5;34m33\u001b[0m │\n",
       "└──────────────────────────────────────┴─────────────────────────────┴─────────────────┘\n"
      ]
     },
     "metadata": {},
     "output_type": "display_data"
    },
    {
     "data": {
      "text/html": [
       "<pre style=\"white-space:pre;overflow-x:auto;line-height:normal;font-family:Menlo,'DejaVu Sans Mono',consolas,'Courier New',monospace\"><span style=\"font-weight: bold\"> Total params: </span><span style=\"color: #00af00; text-decoration-color: #00af00\">3,649</span> (14.25 KB)\n",
       "</pre>\n"
      ],
      "text/plain": [
       "\u001b[1m Total params: \u001b[0m\u001b[38;5;34m3,649\u001b[0m (14.25 KB)\n"
      ]
     },
     "metadata": {},
     "output_type": "display_data"
    },
    {
     "data": {
      "text/html": [
       "<pre style=\"white-space:pre;overflow-x:auto;line-height:normal;font-family:Menlo,'DejaVu Sans Mono',consolas,'Courier New',monospace\"><span style=\"font-weight: bold\"> Trainable params: </span><span style=\"color: #00af00; text-decoration-color: #00af00\">3,649</span> (14.25 KB)\n",
       "</pre>\n"
      ],
      "text/plain": [
       "\u001b[1m Trainable params: \u001b[0m\u001b[38;5;34m3,649\u001b[0m (14.25 KB)\n"
      ]
     },
     "metadata": {},
     "output_type": "display_data"
    },
    {
     "data": {
      "text/html": [
       "<pre style=\"white-space:pre;overflow-x:auto;line-height:normal;font-family:Menlo,'DejaVu Sans Mono',consolas,'Courier New',monospace\"><span style=\"font-weight: bold\"> Non-trainable params: </span><span style=\"color: #00af00; text-decoration-color: #00af00\">0</span> (0.00 B)\n",
       "</pre>\n"
      ],
      "text/plain": [
       "\u001b[1m Non-trainable params: \u001b[0m\u001b[38;5;34m0\u001b[0m (0.00 B)\n"
      ]
     },
     "metadata": {},
     "output_type": "display_data"
    }
   ],
   "source": [
    "# Menentukan jumlah fitur input untuk layer pertama\n",
    "num_features = X_train_scaled.shape[1]\n",
    "\n",
    "# Membangun model sekuensial dengan Keras\n",
    "model = tf.keras.Sequential([\n",
    "    # Input Layer (Dense) dengan 'relu' activation\n",
    "    tf.keras.layers.Dense(64, activation='relu', input_shape=(num_features,)),\n",
    "    # Dropout untuk regularisasi (mencegah overfitting)\n",
    "    tf.keras.layers.Dropout(0.5),\n",
    "    \n",
    "    # Hidden Layer\n",
    "    tf.keras.layers.Dense(32, activation='relu'),\n",
    "    tf.keras.layers.Dropout(0.3),\n",
    "    \n",
    "    # Output Layer\n",
    "    # Menggunakan 1 neuron dengan aktivasi 'sigmoid' untuk klasifikasi biner\n",
    "    tf.keras.layers.Dense(1, activation='sigmoid')\n",
    "])\n",
    "\n",
    "# Menampilkan ringkasan arsitektur model\n",
    "model.summary()"
   ]
  },
  {
   "cell_type": "code",
   "execution_count": 9,
   "id": "24813fd6",
   "metadata": {
    "execution": {
     "iopub.execute_input": "2025-06-13T03:15:20.986910Z",
     "iopub.status.busy": "2025-06-13T03:15:20.986712Z",
     "iopub.status.idle": "2025-06-13T03:15:20.997563Z",
     "shell.execute_reply": "2025-06-13T03:15:20.997087Z"
    },
    "papermill": {
     "duration": 0.017231,
     "end_time": "2025-06-13T03:15:20.998569",
     "exception": false,
     "start_time": "2025-06-13T03:15:20.981338",
     "status": "completed"
    },
    "tags": []
   },
   "outputs": [],
   "source": [
    "# Mengonfigurasi proses training\n",
    "model.compile(\n",
    "    optimizer='adam',\n",
    "    loss='binary_crossentropy',\n",
    "    metrics=['accuracy']\n",
    ")"
   ]
  },
  {
   "cell_type": "code",
   "execution_count": 10,
   "id": "0aeed675",
   "metadata": {
    "execution": {
     "iopub.execute_input": "2025-06-13T03:15:21.007641Z",
     "iopub.status.busy": "2025-06-13T03:15:21.007463Z",
     "iopub.status.idle": "2025-06-13T03:16:55.117805Z",
     "shell.execute_reply": "2025-06-13T03:16:55.117067Z"
    },
    "papermill": {
     "duration": 94.160588,
     "end_time": "2025-06-13T03:16:55.163390",
     "exception": false,
     "start_time": "2025-06-13T03:15:21.002802",
     "status": "completed"
    },
    "tags": []
   },
   "outputs": [
    {
     "name": "stdout",
     "output_type": "stream",
     "text": [
      "Epoch 1/50\n"
     ]
    },
    {
     "name": "stderr",
     "output_type": "stream",
     "text": [
      "WARNING: All log messages before absl::InitializeLog() is called are written to STDERR\n",
      "I0000 00:00:1749784522.820612      61 service.cc:148] XLA service 0x7c399c003470 initialized for platform CUDA (this does not guarantee that XLA will be used). Devices:\n",
      "I0000 00:00:1749784522.821098      61 service.cc:156]   StreamExecutor device (0): Tesla T4, Compute Capability 7.5\n",
      "I0000 00:00:1749784522.821122      61 service.cc:156]   StreamExecutor device (1): Tesla T4, Compute Capability 7.5\n",
      "I0000 00:00:1749784523.081034      61 cuda_dnn.cc:529] Loaded cuDNN version 90300\n"
     ]
    },
    {
     "name": "stdout",
     "output_type": "stream",
     "text": [
      "\u001b[1m  74/2770\u001b[0m \u001b[37m━━━━━━━━━━━━━━━━━━━━\u001b[0m \u001b[1m5s\u001b[0m 2ms/step - accuracy: 0.7157 - loss: 0.5691"
     ]
    },
    {
     "name": "stderr",
     "output_type": "stream",
     "text": [
      "I0000 00:00:1749784524.418107      61 device_compiler.h:188] Compiled cluster using XLA!  This line is logged at most once for the lifetime of the process.\n"
     ]
    },
    {
     "name": "stdout",
     "output_type": "stream",
     "text": [
      "\u001b[1m2770/2770\u001b[0m \u001b[32m━━━━━━━━━━━━━━━━━━━━\u001b[0m\u001b[37m\u001b[0m \u001b[1m13s\u001b[0m 4ms/step - accuracy: 0.9151 - loss: 0.2024 - val_accuracy: 0.8529 - val_loss: 0.7337\n",
      "Epoch 2/50\n",
      "\u001b[1m2770/2770\u001b[0m \u001b[32m━━━━━━━━━━━━━━━━━━━━\u001b[0m\u001b[37m\u001b[0m \u001b[1m8s\u001b[0m 3ms/step - accuracy: 0.9777 - loss: 0.0605 - val_accuracy: 0.8469 - val_loss: 1.0391\n",
      "Epoch 3/50\n",
      "\u001b[1m2770/2770\u001b[0m \u001b[32m━━━━━━━━━━━━━━━━━━━━\u001b[0m\u001b[37m\u001b[0m \u001b[1m8s\u001b[0m 3ms/step - accuracy: 0.9816 - loss: 0.0491 - val_accuracy: 0.8586 - val_loss: 0.9387\n",
      "Epoch 4/50\n",
      "\u001b[1m2770/2770\u001b[0m \u001b[32m━━━━━━━━━━━━━━━━━━━━\u001b[0m\u001b[37m\u001b[0m \u001b[1m8s\u001b[0m 3ms/step - accuracy: 0.9836 - loss: 0.0403 - val_accuracy: 0.8563 - val_loss: 1.0349\n",
      "Epoch 5/50\n",
      "\u001b[1m2770/2770\u001b[0m \u001b[32m━━━━━━━━━━━━━━━━━━━━\u001b[0m\u001b[37m\u001b[0m \u001b[1m8s\u001b[0m 3ms/step - accuracy: 0.9846 - loss: 0.0385 - val_accuracy: 0.8548 - val_loss: 1.1048\n",
      "Epoch 6/50\n",
      "\u001b[1m2770/2770\u001b[0m \u001b[32m━━━━━━━━━━━━━━━━━━━━\u001b[0m\u001b[37m\u001b[0m \u001b[1m8s\u001b[0m 3ms/step - accuracy: 0.9861 - loss: 0.0337 - val_accuracy: 0.8586 - val_loss: 1.0570\n",
      "Epoch 7/50\n",
      "\u001b[1m2770/2770\u001b[0m \u001b[32m━━━━━━━━━━━━━━━━━━━━\u001b[0m\u001b[37m\u001b[0m \u001b[1m8s\u001b[0m 3ms/step - accuracy: 0.9852 - loss: 0.0345 - val_accuracy: 0.8579 - val_loss: 1.0605\n",
      "Epoch 8/50\n",
      "\u001b[1m2770/2770\u001b[0m \u001b[32m━━━━━━━━━━━━━━━━━━━━\u001b[0m\u001b[37m\u001b[0m \u001b[1m8s\u001b[0m 3ms/step - accuracy: 0.9868 - loss: 0.0325 - val_accuracy: 0.8614 - val_loss: 1.0623\n",
      "Epoch 9/50\n",
      "\u001b[1m2770/2770\u001b[0m \u001b[32m━━━━━━━━━━━━━━━━━━━━\u001b[0m\u001b[37m\u001b[0m \u001b[1m8s\u001b[0m 3ms/step - accuracy: 0.9874 - loss: 0.0310 - val_accuracy: 0.8544 - val_loss: 1.2550\n",
      "Epoch 10/50\n",
      "\u001b[1m2770/2770\u001b[0m \u001b[32m━━━━━━━━━━━━━━━━━━━━\u001b[0m\u001b[37m\u001b[0m \u001b[1m8s\u001b[0m 3ms/step - accuracy: 0.9875 - loss: 0.0298 - val_accuracy: 0.8552 - val_loss: 1.3919\n",
      "Epoch 11/50\n",
      "\u001b[1m2770/2770\u001b[0m \u001b[32m━━━━━━━━━━━━━━━━━━━━\u001b[0m\u001b[37m\u001b[0m \u001b[1m8s\u001b[0m 3ms/step - accuracy: 0.9885 - loss: 0.0285 - val_accuracy: 0.8525 - val_loss: 1.4082\n"
     ]
    }
   ],
   "source": [
    "early_stopping = tf.keras.callbacks.EarlyStopping(\n",
    "    monitor='val_loss', \n",
    "    patience=10,          # Jumlah epoch untuk menunggu sebelum berhenti\n",
    "    restore_best_weights=True # Mengembalikan bobot dari epoch terbaik\n",
    ")\n",
    "\n",
    "# Melatih model\n",
    "history = model.fit(\n",
    "    X_train_scaled,\n",
    "    y_train,\n",
    "    epochs=50,             # Jumlah maksimum epoch\n",
    "    batch_size=32,\n",
    "    validation_data=(X_test_scaled, y_test),\n",
    "    callbacks=[early_stopping],\n",
    "    verbose=1\n",
    ")"
   ]
  },
  {
   "cell_type": "markdown",
   "id": "d83f0b27",
   "metadata": {
    "papermill": {
     "duration": 0.095133,
     "end_time": "2025-06-13T03:16:55.311114",
     "exception": false,
     "start_time": "2025-06-13T03:16:55.215981",
     "status": "completed"
    },
    "tags": []
   },
   "source": [
    "## Evaluasi Model"
   ]
  },
  {
   "cell_type": "code",
   "execution_count": 11,
   "id": "1394dbdb",
   "metadata": {
    "execution": {
     "iopub.execute_input": "2025-06-13T03:16:55.417017Z",
     "iopub.status.busy": "2025-06-13T03:16:55.416715Z",
     "iopub.status.idle": "2025-06-13T03:16:55.780185Z",
     "shell.execute_reply": "2025-06-13T03:16:55.779426Z"
    },
    "papermill": {
     "duration": 0.418545,
     "end_time": "2025-06-13T03:16:55.781465",
     "exception": false,
     "start_time": "2025-06-13T03:16:55.362920",
     "status": "completed"
    },
    "tags": []
   },
   "outputs": [
    {
     "data": {
      "image/png": "[encoded data removed]",
      "text/plain": [
       "<Figure size 1200x400 with 2 Axes>"
      ]
     },
     "metadata": {},
     "output_type": "display_data"
    }
   ],
   "source": [
    "# Fungsi untuk plot history training\n",
    "def plot_training_history(history):\n",
    "    # Plot akurasi training dan validasi\n",
    "    acc = history.history['accuracy']\n",
    "    val_acc = history.history['val_accuracy']\n",
    "    loss = history.history['loss']\n",
    "    val_loss = history.history['val_loss']\n",
    "\n",
    "    epochs_range = range(len(acc))\n",
    "\n",
    "    plt.figure(figsize=(12, 4))\n",
    "    plt.subplot(1, 2, 1)\n",
    "    plt.plot(epochs_range, acc, label='Training Accuracy')\n",
    "    plt.plot(epochs_range, val_acc, label='Validation Accuracy')\n",
    "    plt.legend(loc='lower right')\n",
    "    plt.title('Training and Validation Accuracy')\n",
    "    plt.xlabel('Epoch')\n",
    "    plt.ylabel('Accuracy')\n",
    "    plt.grid(True)\n",
    "\n",
    "    # Plot loss training dan validasi\n",
    "    plt.subplot(1, 2, 2)\n",
    "    plt.plot(epochs_range, loss, label='Training Loss')\n",
    "    plt.plot(epochs_range, val_loss, label='Validation Loss')\n",
    "    plt.legend(loc='upper right')\n",
    "    plt.title('Training and Validation Loss')\n",
    "    plt.xlabel('Epoch')\n",
    "    plt.ylabel('Loss')\n",
    "    plt.grid(True)\n",
    "\n",
    "    plt.tight_layout()\n",
    "    plt.show()\n",
    "\n",
    "# Panggil fungsi untuk memvisualisasikan history training\n",
    "plot_training_history(history)"
   ]
  },
  {
   "cell_type": "code",
   "execution_count": 12,
   "id": "98d17835",
   "metadata": {
    "execution": {
     "iopub.execute_input": "2025-06-13T03:16:55.891248Z",
     "iopub.status.busy": "2025-06-13T03:16:55.891000Z",
     "iopub.status.idle": "2025-06-13T03:16:58.287415Z",
     "shell.execute_reply": "2025-06-13T03:16:58.286605Z"
    },
    "papermill": {
     "duration": 2.450501,
     "end_time": "2025-06-13T03:16:58.288541",
     "exception": false,
     "start_time": "2025-06-13T03:16:55.838040",
     "status": "completed"
    },
    "tags": []
   },
   "outputs": [
    {
     "name": "stdout",
     "output_type": "stream",
     "text": [
      "\n",
      "--- Mengevaluasi Model pada Test Set ---\n",
      "Test Accuracy: 0.8529\n",
      "Test Loss: 0.7337\n"
     ]
    }
   ],
   "source": [
    "# Evaluasi pada test set\n",
    "print(\"\\n--- Mengevaluasi Model pada Test Set ---\")\n",
    "loss, accuracy = model.evaluate(X_test_scaled, y_test, verbose=0)\n",
    "print(f\"Test Accuracy: {accuracy:.4f}\")\n",
    "print(f\"Test Loss: {loss:.4f}\")"
   ]
  },
  {
   "cell_type": "code",
   "execution_count": 13,
   "id": "2163695e",
   "metadata": {
    "execution": {
     "iopub.execute_input": "2025-06-13T03:16:58.397553Z",
     "iopub.status.busy": "2025-06-13T03:16:58.396948Z",
     "iopub.status.idle": "2025-06-13T03:17:01.019966Z",
     "shell.execute_reply": "2025-06-13T03:17:01.019205Z"
    },
    "papermill": {
     "duration": 2.679342,
     "end_time": "2025-06-13T03:17:01.021197",
     "exception": false,
     "start_time": "2025-06-13T03:16:58.341855",
     "status": "completed"
    },
    "tags": []
   },
   "outputs": [
    {
     "name": "stdout",
     "output_type": "stream",
     "text": [
      "\n",
      "--- Laporan Klasifikasi ---\n",
      "\u001b[1m1375/1375\u001b[0m \u001b[32m━━━━━━━━━━━━━━━━━━━━\u001b[0m\u001b[37m\u001b[0m \u001b[1m2s\u001b[0m 1ms/step\n",
      "                precision    recall  f1-score   support\n",
      "\n",
      "Non-Stress (0)       0.90      0.88      0.89     30863\n",
      "    Stress (1)       0.74      0.78      0.76     13132\n",
      "\n",
      "      accuracy                           0.85     43995\n",
      "     macro avg       0.82      0.83      0.83     43995\n",
      "  weighted avg       0.86      0.85      0.85     43995\n",
      "\n"
     ]
    }
   ],
   "source": [
    "# Laporan Klasifikasi dan Confusion Matrix\n",
    "print(\"\\n--- Laporan Klasifikasi ---\")\n",
    "# Mendapatkan prediksi probabilitas\n",
    "y_pred_proba = model.predict(X_test_scaled).flatten()\n",
    "# Mengonversi probabilitas menjadi kelas biner (0 atau 1) dengan threshold 0.5\n",
    "y_pred = (y_pred_proba > 0.5).astype(int)\n",
    "\n",
    "# Mencetak laporan\n",
    "print(classification_report(y_test, y_pred, target_names=['Non-Stress (0)', 'Stress (1)']))"
   ]
  },
  {
   "cell_type": "code",
   "execution_count": 14,
   "id": "ba6454b4",
   "metadata": {
    "execution": {
     "iopub.execute_input": "2025-06-13T03:17:01.133111Z",
     "iopub.status.busy": "2025-06-13T03:17:01.132841Z",
     "iopub.status.idle": "2025-06-13T03:17:01.284197Z",
     "shell.execute_reply": "2025-06-13T03:17:01.283445Z"
    },
    "papermill": {
     "duration": 0.20706,
     "end_time": "2025-06-13T03:17:01.285360",
     "exception": false,
     "start_time": "2025-06-13T03:17:01.078300",
     "status": "completed"
    },
    "tags": []
   },
   "outputs": [
    {
     "data": {
      "image/png": "[encoded data removed]",
      "text/plain": [
       "<Figure size 800x600 with 2 Axes>"
      ]
     },
     "metadata": {},
     "output_type": "display_data"
    }
   ],
   "source": [
    "# Menampilkan confusion matrix\n",
    "cm = confusion_matrix(y_test, y_pred)\n",
    "plt.figure(figsize=(8, 6))\n",
    "sns.heatmap(cm, annot=True, fmt='d', cmap='Blues', xticklabels=['Non-Stress', 'Stress'], yticklabels=['Non-Stress', 'Stress'])\n",
    "plt.xlabel('Prediksi')\n",
    "plt.ylabel('Aktual')\n",
    "plt.title('Confusion Matrix')\n",
    "plt.show()"
   ]
  },
  {
   "cell_type": "markdown",
   "id": "8804ce99",
   "metadata": {
    "papermill": {
     "duration": 0.054602,
     "end_time": "2025-06-13T03:17:01.396303",
     "exception": false,
     "start_time": "2025-06-13T03:17:01.341701",
     "status": "completed"
    },
    "tags": []
   },
   "source": [
    "## Menyimpan Model"
   ]
  },
  {
   "cell_type": "code",
   "execution_count": 15,
   "id": "c2925ab2",
   "metadata": {
    "execution": {
     "iopub.execute_input": "2025-06-13T03:17:01.507013Z",
     "iopub.status.busy": "2025-06-13T03:17:01.506510Z",
     "iopub.status.idle": "2025-06-13T03:17:01.534911Z",
     "shell.execute_reply": "2025-06-13T03:17:01.534432Z"
    },
    "papermill": {
     "duration": 0.084643,
     "end_time": "2025-06-13T03:17:01.535930",
     "exception": false,
     "start_time": "2025-06-13T03:17:01.451287",
     "status": "completed"
    },
    "tags": []
   },
   "outputs": [],
   "source": [
    "model.save('/kaggle/working/wesad_model.h5')"
   ]
  },
  {
   "cell_type": "code",
   "execution_count": 16,
   "id": "898fd5f5",
   "metadata": {
    "execution": {
     "iopub.execute_input": "2025-06-13T03:17:01.643923Z",
     "iopub.status.busy": "2025-06-13T03:17:01.643738Z",
     "iopub.status.idle": "2025-06-13T03:17:01.649176Z",
     "shell.execute_reply": "2025-06-13T03:17:01.648498Z"
    },
    "papermill": {
     "duration": 0.060933,
     "end_time": "2025-06-13T03:17:01.650287",
     "exception": false,
     "start_time": "2025-06-13T03:17:01.589354",
     "status": "completed"
    },
    "tags": []
   },
   "outputs": [
    {
     "data": {
      "text/plain": [
       "['/kaggle/working/scaler.pkl']"
      ]
     },
     "execution_count": 16,
     "metadata": {},
     "output_type": "execute_result"
    }
   ],
   "source": [
    "# menyimpan scaler\n",
    "joblib.dump(scaler, '/kaggle/working/scaler.pkl') "
   ]
  }
 ],
 "metadata": {
  "kaggle": {
   "accelerator": "nvidiaTeslaT4",
   "dataSources": [
    {
     "datasetId": 7650460,
     "sourceId": 12147038,
     "sourceType": "datasetVersion"
    }
   ],
   "dockerImageVersionId": 31041,
   "isGpuEnabled": true,
   "isInternetEnabled": true,
   "language": "python",
   "sourceType": "notebook"
  },
  "kernelspec": {
   "display_name": "Python 3",
   "language": "python",
   "name": "python3"
  },
  "language_info": {
   "codemirror_mode": {
    "name": "ipython",
    "version": 3
   },
   "file_extension": ".py",
   "mimetype": "text/x-python",
   "name": "python",
   "nbconvert_exporter": "python",
   "pygments_lexer": "ipython3",
   "version": "3.11.11"
  },
  "papermill": {
   "default_parameters": {},
   "duration": 128.290198,
   "end_time": "2025-06-13T03:17:04.809773",
   "environment_variables": {},
   "exception": null,
   "input_path": "__notebook__.ipynb",
   "output_path": "__notebook__.ipynb",
   "parameters": {},
   "start_time": "2025-06-13T03:14:56.519575",
   "version": "2.6.0"
  }
 },
 "nbformat": 4,
 "nbformat_minor": 5
}
